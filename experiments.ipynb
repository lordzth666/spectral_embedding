{
 "cells": [
  {
   "cell_type": "markdown",
   "metadata": {},
   "source": [
    "# Weighted spectral embedding"
   ]
  },
  {
   "cell_type": "markdown",
   "metadata": {},
   "source": [
    "This notebook presents the experiments of the paper:\n",
    "\n",
    "[Weighted Spectral Embedding of Graphs](https://perso.telecom-paristech.fr/bonald/) by Thomas Bonald, Alexandre Hollocou, Marc Lelarge (Allerton 2018)\n",
    "\n",
    "The objective is to show the impact of the spectral embedding on the clustering. \n",
    "\n",
    "We use the graph of [Wikipedia for Schools](https://schools-wikipedia.org).\n",
    "\n",
    "Observe that the results may slightly differ from those appearing in the above paper due to the precision of the spectral decomposition of the Laplacian and the randomness of the k-means algorithm."
   ]
  },
  {
   "cell_type": "markdown",
   "metadata": {},
   "source": [
    "## Import packages"
   ]
  },
  {
   "cell_type": "code",
   "execution_count": null,
   "metadata": {
    "collapsed": true
   },
   "outputs": [],
   "source": [
    "from spectral_embedding import *"
   ]
  },
  {
   "cell_type": "markdown",
   "metadata": {},
   "source": [
    "The notebook requires the following packages, which can be installed by ```pip```."
   ]
  },
  {
   "cell_type": "code",
   "execution_count": null,
   "metadata": {
    "collapsed": true
   },
   "outputs": [],
   "source": [
    "import networkx as nx"
   ]
  },
  {
   "cell_type": "code",
   "execution_count": null,
   "metadata": {
    "collapsed": true
   },
   "outputs": [],
   "source": [
    "from sklearn.cluster import KMeans"
   ]
  },
  {
   "cell_type": "code",
   "execution_count": null,
   "metadata": {
    "collapsed": true
   },
   "outputs": [],
   "source": [
    "import urllib.request"
   ]
  },
  {
   "cell_type": "markdown",
   "metadata": {},
   "source": [
    "## Import dataset"
   ]
  },
  {
   "cell_type": "code",
   "execution_count": null,
   "metadata": {
    "collapsed": true
   },
   "outputs": [],
   "source": [
    "url = \"http://perso.telecom-paristech.fr/~bonald/graphs/\"\n",
    "dataset = \"wikipedia_schools_undirected.graphml.gz\"\n",
    "download = urllib.request.urlretrieve(url + dataset, dataset)"
   ]
  },
  {
   "cell_type": "code",
   "execution_count": null,
   "metadata": {
    "collapsed": true
   },
   "outputs": [],
   "source": [
    "graph = nx.read_graphml(dataset, node_type=int)"
   ]
  },
  {
   "cell_type": "code",
   "execution_count": null,
   "metadata": {
    "scrolled": true
   },
   "outputs": [],
   "source": [
    "print(nx.info(graph))"
   ]
  },
  {
   "cell_type": "code",
   "execution_count": null,
   "metadata": {
    "collapsed": true
   },
   "outputs": [],
   "source": [
    "n_nodes = graph.number_of_nodes()"
   ]
  },
  {
   "cell_type": "code",
   "execution_count": null,
   "metadata": {
    "collapsed": true
   },
   "outputs": [],
   "source": [
    "degrees = np.array([graph.degree(u) for u in graph.nodes()])"
   ]
  },
  {
   "cell_type": "code",
   "execution_count": null,
   "metadata": {
    "collapsed": true
   },
   "outputs": [],
   "source": [
    "adjacency = nx.to_scipy_sparse_matrix(graph)"
   ]
  },
  {
   "cell_type": "markdown",
   "metadata": {},
   "source": [
    "## Embedding"
   ]
  },
  {
   "cell_type": "code",
   "execution_count": null,
   "metadata": {
    "collapsed": true
   },
   "outputs": [],
   "source": [
    "spectral = SpectralEmbedding()\n",
    "weighted_spectral = SpectralEmbedding(node_weights = 'degree')"
   ]
  },
  {
   "cell_type": "code",
   "execution_count": null,
   "metadata": {},
   "outputs": [],
   "source": [
    "spectral.fit(adjacency)"
   ]
  },
  {
   "cell_type": "code",
   "execution_count": null,
   "metadata": {},
   "outputs": [],
   "source": [
    "weighted_spectral.fit(adjacency)"
   ]
  },
  {
   "cell_type": "code",
   "execution_count": null,
   "metadata": {
    "collapsed": true
   },
   "outputs": [],
   "source": [
    "def get_shift_embedding(embedding_, index = None, weighting = 'degree'):\n",
    "    n_nodes,dim = np.shape(embedding_)\n",
    "    if index is None:\n",
    "        index = range(n_nodes)\n",
    "    if type(weighting) == str:\n",
    "        if weighting == 'degree':\n",
    "            weights_ = np.array([graph.degree(u) for u in index])\n",
    "        elif weighting == 'unitary':\n",
    "            weights_ = np.ones(len(index))\n",
    "    else:\n",
    "        weights_ = weighting[index]\n",
    "    centroid_ = np.sum(embedding_[index].T * weights_,axis = 1).reshape(1,dim) / np.sum(weights_)\n",
    "    return embedding_ - np.ones((n_nodes,1)).dot(centroid_)"
   ]
  },
  {
   "cell_type": "code",
   "execution_count": null,
   "metadata": {
    "collapsed": true
   },
   "outputs": [],
   "source": [
    "embedding = spectral.embedding_\n",
    "weighted_embedding = weighted_spectral.embedding_"
   ]
  },
  {
   "cell_type": "code",
   "execution_count": null,
   "metadata": {
    "collapsed": true
   },
   "outputs": [],
   "source": [
    "spectrum = spectral.eigenvalues_\n",
    "weighted_spectrum = weighted_spectral.eigenvalues_"
   ]
  },
  {
   "cell_type": "code",
   "execution_count": null,
   "metadata": {
    "collapsed": true
   },
   "outputs": [],
   "source": [
    "shifted_embedding = get_shift_embedding(embedding)"
   ]
  },
  {
   "cell_type": "code",
   "execution_count": null,
   "metadata": {},
   "outputs": [],
   "source": [
    "np.shape(embedding)"
   ]
  },
  {
   "cell_type": "markdown",
   "metadata": {},
   "source": [
    "## Global clustering"
   ]
  },
  {
   "cell_type": "code",
   "execution_count": null,
   "metadata": {
    "collapsed": true
   },
   "outputs": [],
   "source": [
    "n_clusters = 20\n",
    "kmeans = KMeans(n_clusters,n_init=100)"
   ]
  },
  {
   "cell_type": "code",
   "execution_count": null,
   "metadata": {
    "collapsed": true
   },
   "outputs": [],
   "source": [
    "def sort_nodes(embedding, cluster, ranking = 'mixed', weighting = 'degree'):\n",
    "    index = np.array(cluster)\n",
    "    if ranking == 'degree':\n",
    "        return index[np.argsort(-degrees[index])]\n",
    "    elif ranking == 'distance':\n",
    "        local_distances = np.linalg.norm(get_shift_embedding(embedding,index,weighting),axis = 1)\n",
    "        return index[np.argsort(local_distances[index])]\n",
    "    elif ranking == 'mixed':\n",
    "        local_distances = np.linalg.norm(get_shift_embedding(embedding,index,weighting),axis = 1)\n",
    "        median = len(cluster) // 2\n",
    "        index1 = np.argsort(local_distances[index])\n",
    "        index1[:median]  = index1[np.argsort(-degrees[index[index1[:median]]])]\n",
    "        return index[index1]"
   ]
  },
  {
   "cell_type": "code",
   "execution_count": null,
   "metadata": {
    "collapsed": true
   },
   "outputs": [],
   "source": [
    "def get_clusters(embedding, normalize = True, ranking = 'mixed', weighting = 'degree', selection = None):\n",
    "    if normalize:\n",
    "        embedding_ = (embedding.T / np.linalg.norm(embedding,axis = 1)).T\n",
    "    else:\n",
    "        embedding_ = embedding\n",
    "    kmeans.fit(embedding_)\n",
    "    labels = list(kmeans.labels_)\n",
    "    clusters = [[] for k in range(n_clusters)]\n",
    "    for u in range(len(labels)):\n",
    "        clusters[labels[u]].append(u)\n",
    "    if selection is not None:\n",
    "        clusters = [list(set(c) & set(selection)) for c in clusters]\n",
    "    clusters = sorted(clusters,key = len,reverse = True)\n",
    "    return [sort_nodes(embedding,c,ranking,weighting) for c in clusters if len(c) > 0]"
   ]
  },
  {
   "cell_type": "code",
   "execution_count": null,
   "metadata": {
    "collapsed": true
   },
   "outputs": [],
   "source": [
    "def show_top_nodes(clusters, k_clusters = 20, k_nodes = 5):\n",
    "    to_print = \"\"\n",
    "    for i,c in enumerate(clusters):\n",
    "        if i < k_clusters:\n",
    "            to_print += str(i+1)+\" (\"+str(len(c))+\") \"\n",
    "            for u in c[:k_nodes]:\n",
    "                to_print += graph.node[u]['name'] + \",\"\n",
    "            to_print += \"\\n\"\n",
    "    print(to_print)"
   ]
  },
  {
   "cell_type": "code",
   "execution_count": null,
   "metadata": {
    "collapsed": true,
    "scrolled": true
   },
   "outputs": [],
   "source": [
    "clusters = get_clusters(embedding, weighting = 'unitary')\n",
    "shifted_clusters = get_clusters(shifted_embedding)\n",
    "weighted_clusters = get_clusters(weighted_embedding)"
   ]
  },
  {
   "cell_type": "code",
   "execution_count": null,
   "metadata": {
    "scrolled": true
   },
   "outputs": [],
   "source": [
    "show_top_nodes(clusters)"
   ]
  },
  {
   "cell_type": "code",
   "execution_count": null,
   "metadata": {
    "scrolled": true
   },
   "outputs": [],
   "source": [
    "show_top_nodes(shifted_clusters)"
   ]
  },
  {
   "cell_type": "code",
   "execution_count": null,
   "metadata": {},
   "outputs": [],
   "source": [
    "show_top_nodes(weighted_clusters)"
   ]
  },
  {
   "cell_type": "markdown",
   "metadata": {},
   "source": [
    "## Selective clustering"
   ]
  },
  {
   "cell_type": "code",
   "execution_count": null,
   "metadata": {
    "collapsed": true
   },
   "outputs": [],
   "source": [
    "def get_nodes_by_category(category):\n",
    "    return [u for u in graph.nodes() if 'category' in graph.node[u] and category in graph.node[u]['category']]"
   ]
  },
  {
   "cell_type": "code",
   "execution_count": null,
   "metadata": {},
   "outputs": [],
   "source": [
    "people = get_nodes_by_category('People.')\n",
    "len(people)"
   ]
  },
  {
   "cell_type": "code",
   "execution_count": null,
   "metadata": {
    "collapsed": true
   },
   "outputs": [],
   "source": [
    "selected_nodes = people"
   ]
  },
  {
   "cell_type": "code",
   "execution_count": null,
   "metadata": {
    "collapsed": true
   },
   "outputs": [],
   "source": [
    "subgraph = nx.Graph(graph.subgraph(people))"
   ]
  },
  {
   "cell_type": "code",
   "execution_count": null,
   "metadata": {},
   "outputs": [],
   "source": [
    "nx.is_connected(subgraph)"
   ]
  },
  {
   "cell_type": "code",
   "execution_count": null,
   "metadata": {
    "collapsed": true
   },
   "outputs": [],
   "source": [
    "factor = 10\n",
    "factors = np.array([1 + (factor - 1) * int(u in selected_nodes) for u in graph.nodes()])\n",
    "uniform_weights = factors\n",
    "degree_weights = degrees * factors"
   ]
  },
  {
   "cell_type": "code",
   "execution_count": null,
   "metadata": {
    "collapsed": true
   },
   "outputs": [],
   "source": [
    "selective_spectral = SpectralEmbedding(node_weights = uniform_weights)\n",
    "selective_weighted_spectral = SpectralEmbedding(node_weights = degree_weights)"
   ]
  },
  {
   "cell_type": "code",
   "execution_count": null,
   "metadata": {
    "scrolled": true
   },
   "outputs": [],
   "source": [
    "selective_spectral.fit(adjacency)"
   ]
  },
  {
   "cell_type": "code",
   "execution_count": null,
   "metadata": {},
   "outputs": [],
   "source": [
    "selective_weighted_spectral.fit(adjacency)"
   ]
  },
  {
   "cell_type": "code",
   "execution_count": null,
   "metadata": {
    "collapsed": true
   },
   "outputs": [],
   "source": [
    "selective_embedding = selective_spectral.embedding_\n",
    "selective_weighted_embedding = selective_weighted_spectral.embedding_"
   ]
  },
  {
   "cell_type": "code",
   "execution_count": null,
   "metadata": {
    "collapsed": true
   },
   "outputs": [],
   "source": [
    "selective_shifted_embedding = get_shift_embedding(selective_embedding,weighting = degree_weights)"
   ]
  },
  {
   "cell_type": "code",
   "execution_count": null,
   "metadata": {
    "collapsed": true
   },
   "outputs": [],
   "source": [
    "selective_clusters = get_clusters(selective_embedding, ranking = 'degree', selection = selected_nodes)\n",
    "selective_shifted_clusters = get_clusters(selective_shifted_embedding, ranking = 'degree', selection = selected_nodes)\n",
    "selective_weighted_clusters = get_clusters(selective_weighted_embedding, ranking = 'degree', selection = selected_nodes)"
   ]
  },
  {
   "cell_type": "code",
   "execution_count": null,
   "metadata": {
    "scrolled": true
   },
   "outputs": [],
   "source": [
    "show_top_nodes(selective_clusters)"
   ]
  },
  {
   "cell_type": "code",
   "execution_count": null,
   "metadata": {},
   "outputs": [],
   "source": [
    "show_top_nodes(selective_shifted_clusters)"
   ]
  },
  {
   "cell_type": "code",
   "execution_count": null,
   "metadata": {},
   "outputs": [],
   "source": [
    "show_top_nodes(selective_weighted_clusters)"
   ]
  },
  {
   "cell_type": "code",
   "execution_count": null,
   "metadata": {
    "collapsed": true
   },
   "outputs": [],
   "source": []
  }
 ],
 "metadata": {
  "anaconda-cloud": {},
  "hide_input": false,
  "kernelspec": {
   "display_name": "Python 3",
   "language": "python",
   "name": "python3"
  },
  "language_info": {
   "codemirror_mode": {
    "name": "ipython",
    "version": 3
   },
   "file_extension": ".py",
   "mimetype": "text/x-python",
   "name": "python",
   "nbconvert_exporter": "python",
   "pygments_lexer": "ipython3",
   "version": "3.6.1"
  }
 },
 "nbformat": 4,
 "nbformat_minor": 2
}
